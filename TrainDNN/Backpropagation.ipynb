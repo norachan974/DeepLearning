{
  "cells": [
    {
      "cell_type": "markdown",
      "metadata": {
        "id": "zNmLmqrJAXXp"
      },
      "source": [
        "# LIS 640 Applied Deep Learning : Backpropagation\n"
      ]
    },
    {
      "cell_type": "markdown",
      "metadata": {
        "id": "YiCtRax98sPk"
      },
      "source": [
        "# Code Blocks for Problem 2"
      ]
    },
    {
      "cell_type": "code",
      "execution_count": 3,
      "metadata": {
        "id": "WaT3A7je8sPl"
      },
      "outputs": [],
      "source": [
        "import torch\n",
        "import random\n",
        "import statistics\n",
        "from typing import Dict, List, Callable, Optional\n",
        "\n",
        "\n",
        "def hello_two_layer_net():\n",
        "    print(\"Hello from problem2.ipynb!\")\n",
        "\n",
        "\n",
        "def sample_batch(\n",
        "    X: torch.Tensor, y: torch.Tensor, num_train: int, batch_size: int\n",
        "):\n",
        "    \"\"\"\n",
        "    Sample batch_size elements from the training data and their\n",
        "    corresponding labels to use in this round of gradient descent.\n",
        "    \"\"\"\n",
        "    indices = torch.randint(num_train, (batch_size,))\n",
        "    y_batch = y[indices]\n",
        "    X_batch = X[indices]\n",
        "    return X_batch, y_batch\n",
        "\n",
        "\n",
        "# Template class modules that we will use later: Do not edit/modify this class\n",
        "class TwoLayerNet(object):\n",
        "    def __init__(\n",
        "        self,\n",
        "        input_size: int,\n",
        "        hidden_size: int,\n",
        "        output_size: int,\n",
        "        dtype: torch.dtype = torch.float32,\n",
        "        device: str = \"cuda\",\n",
        "        std: float = 1e-4,\n",
        "    ):\n",
        "        \"\"\"\n",
        "        Initialize the model. Weights are initialized to small random values and\n",
        "        biases are initialized to zero. Weights and biases are stored in the\n",
        "        variable self.params, which is a dictionary with the following keys:\n",
        "\n",
        "        W1: First layer weights; has shape (D, H)\n",
        "        W2: Second layer weights; has shape (H, C)\n",
        "\n",
        "        Inputs:\n",
        "        - input_size: The dimension D of the input data.\n",
        "        - hidden_size: The number of neurons H in the hidden layer.\n",
        "        - output_size: The number of classes C.\n",
        "        - dtype: Optional, data type of each initial weight params\n",
        "        - device: Optional, whether the weight params is on GPU or CPU\n",
        "        - std: Optional, initial weight scaler.\n",
        "        \"\"\"\n",
        "        # reset seed before start\n",
        "        random.seed(0)\n",
        "        torch.manual_seed(0)\n",
        "\n",
        "        self.params = {}\n",
        "        self.params[\"W1\"] = std * torch.randn(\n",
        "            input_size, hidden_size, dtype=dtype, device=device\n",
        "        )\n",
        "        self.params[\"W2\"] = std * torch.randn(\n",
        "            hidden_size, output_size, dtype=dtype, device=device\n",
        "        )\n",
        "\n",
        "    def loss(\n",
        "        self,\n",
        "        X: torch.Tensor,\n",
        "        y: Optional[torch.Tensor] = None,\n",
        "        reg: float = 0.0,\n",
        "    ):\n",
        "        return nn_forward_backward(self.params, X, y, reg)\n",
        "\n",
        "    def train(\n",
        "        self,\n",
        "        X: torch.Tensor,\n",
        "        y: torch.Tensor,\n",
        "        X_val: torch.Tensor,\n",
        "        y_val: torch.Tensor,\n",
        "        learning_rate: float = 1e-3,\n",
        "        learning_rate_decay: float = 0.95,\n",
        "        reg: float = 5e-6,\n",
        "        num_iters: int = 100,\n",
        "        batch_size: int = 200,\n",
        "        verbose: bool = False,\n",
        "    ):\n",
        "        # fmt: off\n",
        "        return nn_train(\n",
        "            self.params, nn_forward_backward, nn_predict, X, y,\n",
        "            X_val, y_val, learning_rate, learning_rate_decay,\n",
        "            reg, num_iters, batch_size, verbose,\n",
        "        )\n",
        "        # fmt: on\n",
        "\n",
        "    def predict(self, X: torch.Tensor):\n",
        "        return nn_predict(self.params, nn_forward_backward, X)\n",
        "\n",
        "    def save(self, path: str):\n",
        "        torch.save(self.params, path)\n",
        "        print(\"Saved in {}\".format(path))\n",
        "\n",
        "    def load(self, path: str):\n",
        "        checkpoint = torch.load(path, map_location=\"cpu\")\n",
        "        self.params = checkpoint\n",
        "        if len(self.params) != 4:\n",
        "            raise Exception(\"Failed to load your checkpoint\")\n",
        "\n",
        "        for param in [\"W1\", \"W2\"]:\n",
        "            if param not in self.params:\n",
        "                raise Exception(\"Failed to load your checkpoint\")\n",
        "        # print(\"load checkpoint file: {}\".format(path))\n",
        "\n",
        "\n",
        "def nn_forward_pass(params: Dict[str, torch.Tensor], X: torch.Tensor):\n",
        "    \"\"\"\n",
        "    The first stage of our neural network implementation: Run the forward pass\n",
        "    of the network to compute the hidden layer features and classification\n",
        "    scores. The network architecture should be:\n",
        "\n",
        "    FC layer -> ReLU (hidden) -> FC layer (scores)\n",
        "\n",
        "    Inputs:\n",
        "    - params: a dictionary of PyTorch Tensor that store the weights of a model.\n",
        "      It should have following keys with shape\n",
        "          W1: First layer weights; has shape (D, H)\n",
        "          W2: Second layer weights; has shape (H, C)\n",
        "    - X: Input data of shape (N, D). Each X[i] is a training sample.\n",
        "\n",
        "    Returns a tuple of:\n",
        "    - scores: Tensor of shape (N, C) giving the classification scores for X\n",
        "    - hidden: Tensor of shape (N, H) giving the hidden layer representation\n",
        "      for each input value (after the ReLU).\n",
        "    \"\"\"\n",
        "    # Unpack variables from the params dictionary\n",
        "    W1 = params[\"W1\"]\n",
        "    W2 = params[\"W2\"]\n",
        "    N, D = X.shape\n",
        "\n",
        "    # Compute the forward pass\n",
        "    hidden = None\n",
        "    scores = None\n",
        "    ############################################################################\n",
        "    # TODO: Perform the forward pass, computing the class scores for the input.#\n",
        "    # Store the result in the scores variable, which should be an tensor of    #\n",
        "    # shape (N, C).                                                            #\n",
        "    ############################################################################\n",
        "    # Replace \"pass\" statement with your code\n",
        "    hidden_pre_activation = X.mm(W1)\n",
        "    hidden = torch.relu(hidden_pre_activation)\n",
        "    scores = hidden.mm(W2)\n",
        "    ###########################################################################\n",
        "    #                             END OF YOUR CODE                            #\n",
        "    ###########################################################################\n",
        "\n",
        "    return scores, hidden\n",
        "\n",
        "\n",
        "def nn_forward_backward(\n",
        "    params: Dict[str, torch.Tensor],\n",
        "    X: torch.Tensor,\n",
        "    y: Optional[torch.Tensor] = None,\n",
        "    reg: float = 0.0\n",
        "):\n",
        "    \"\"\"\n",
        "    Compute the loss and gradients for a two layer fully connected neural\n",
        "    network. When you implement loss and gradient, please don't forget to\n",
        "    scale the losses/gradients by the batch size.\n",
        "\n",
        "    Inputs: First two parameters (params, X) are same as nn_forward_pass\n",
        "    - params: a dictionary of PyTorch Tensor that store the weights of a model.\n",
        "      It should have following keys with shape\n",
        "          W1: First layer weights; has shape (D, H)\n",
        "          W2: Second layer weights; has shape (H, C)\n",
        "    - X: Input data of shape (N, D). Each X[i] is a training sample.\n",
        "    - y: Vector of training labels. y[i] is the label for X[i], and each y[i] is\n",
        "      an integer in the range 0 <= y[i] < C. This parameter is optional; if it\n",
        "      is not passed then we only return scores, and if it is passed then we\n",
        "      instead return the loss and gradients.\n",
        "    - reg: Regularization strength.\n",
        "\n",
        "    Returns:\n",
        "    If y is None, return a tensor scores of shape (N, C) where scores[i, c] is\n",
        "    the score for class c on input X[i].\n",
        "\n",
        "    If y is not None, instead return a tuple of:\n",
        "    - loss: Loss (data loss and regularization loss) for this batch of training\n",
        "      samples.\n",
        "    - grads: Dictionary mapping parameter names to gradients of those parameters\n",
        "      with respect to the loss function; has the same keys as self.params.\n",
        "    \"\"\"\n",
        "    # Unpack variables from the params dictionary\n",
        "    W1 = params[\"W1\"]\n",
        "    W2 = params[\"W2\"]\n",
        "    N, D = X.shape\n",
        "\n",
        "    scores, h1 = nn_forward_pass(params, X)\n",
        "    # If the targets are not given then jump out, we're done\n",
        "    if y is None:\n",
        "        return scores\n",
        "\n",
        "    # Compute the loss\n",
        "    loss = None\n",
        "    ############################################################################\n",
        "    # TODO: Compute the loss, based on the results from nn_forward_pass.       #\n",
        "    ############################################################################\n",
        "    # Replace \"pass\" statement with your code\n",
        "    exp = torch.exp(scores - torch.max(scores, axis=1, keepdims=True).values)\n",
        "    probs = exp / torch.sum(exp, axis=1, keepdims=True)\n",
        "    correct_logprobs = -torch.log(probs[range(N), y] + 1e-7)\n",
        "    data_loss = torch.sum(correct_logprobs) / N\n",
        "\n",
        "    reg_loss = reg * 0.5 * (torch.sum(W1 * W1) + torch.sum(W2 * W2))\n",
        "    loss = data_loss + reg_loss\n",
        "    ###########################################################################\n",
        "    #                             END OF YOUR CODE                            #\n",
        "    ###########################################################################\n",
        "\n",
        "    # Backward pass: compute gradients\n",
        "    grads = {}\n",
        "    ###########################################################################\n",
        "    # TODO: Compute the backward pass, computing the derivatives of the       #\n",
        "    # weights and biases. Store the results in the grads dictionary.          #\n",
        "    # For example, grads['W1'] should store the gradient on W1, and be a      #\n",
        "    # tensor of same size                                                     #\n",
        "    ###########################################################################\n",
        "    # Replace \"pass\" statement with your code\n",
        "    dscores = probs\n",
        "    dscores[range(N), y] -= 1\n",
        "    dscores /= N\n",
        "    dW2 = h1.t().mm(dscores)\n",
        "    dW2 += reg * W2\n",
        "    grads['W2'] = dW2\n",
        "    dhidden = dscores.mm(W2.t())\n",
        "    dhidden[h1 <= 0] = 0\n",
        "    dW1 = X.t().mm(dhidden)\n",
        "    dW1 += reg * W1\n",
        "    grads['W1'] = dW1\n",
        "    ###########################################################################\n",
        "    #                             END OF YOUR CODE                            #\n",
        "    ###########################################################################\n",
        "\n",
        "    return loss, grads\n",
        "\n",
        "\n",
        "def nn_train(\n",
        "    params: Dict[str, torch.Tensor],\n",
        "    loss_func: Callable,\n",
        "    pred_func: Callable,\n",
        "    X: torch.Tensor,\n",
        "    y: torch.Tensor,\n",
        "    X_val: torch.Tensor,\n",
        "    y_val: torch.Tensor,\n",
        "    learning_rate: float = 1e-3,\n",
        "    learning_rate_decay: float = 0.95,\n",
        "    reg: float = 5e-6,\n",
        "    num_iters: int = 100,\n",
        "    batch_size: int = 200,\n",
        "    verbose: bool = False,\n",
        "):\n",
        "    \"\"\"\n",
        "    Train this neural network using stochastic gradient descent.\n",
        "\n",
        "    Inputs:\n",
        "    - params: a dictionary of PyTorch Tensor that store the weights of a model.\n",
        "      It should have following keys with shape\n",
        "          W1: First layer weights; has shape (D, H)\n",
        "          W2: Second layer weights; has shape (H, C)\n",
        "    - loss_func: a loss function that computes the loss and the gradients.\n",
        "      It takes as input:\n",
        "      - params: Same as input to nn_train\n",
        "      - X_batch: A minibatch of inputs of shape (B, D)\n",
        "      - y_batch: Ground-truth labels for X_batch\n",
        "      - reg: Same as input to nn_train\n",
        "      And it returns a tuple of:\n",
        "        - loss: Scalar giving the loss on the minibatch\n",
        "        - grads: Dictionary mapping parameter names to gradients of the loss with\n",
        "          respect to the corresponding parameter.\n",
        "    - pred_func: prediction function that im\n",
        "    - X: A PyTorch tensor of shape (N, D) giving training data.\n",
        "    - y: A PyTorch tensor of shape (N,) giving training labels; y[i] = c means\n",
        "      that X[i] has label c, where 0 <= c < C.\n",
        "    - X_val: A PyTorch tensor of shape (N_val, D) giving validation data.\n",
        "    - y_val: A PyTorch tensor of shape (N_val,) giving validation labels.\n",
        "    - learning_rate: Scalar giving learning rate for optimization.\n",
        "    - learning_rate_decay: Scalar giving factor used to decay the learning rate\n",
        "      after each epoch.\n",
        "    - reg: Scalar giving regularization strength.\n",
        "    - num_iters: Number of steps to take when optimizing.\n",
        "    - batch_size: Number of training examples to use per step.\n",
        "    - verbose: boolean; if true print progress during optimization.\n",
        "\n",
        "    Returns: A dictionary giving statistics about the training process\n",
        "    \"\"\"\n",
        "    num_train = X.shape[0]\n",
        "    iterations_per_epoch = max(num_train // batch_size, 1)\n",
        "\n",
        "    # Use SGD to optimize the parameters in self.model\n",
        "    loss_history = []\n",
        "    train_acc_history = []\n",
        "    val_acc_history = []\n",
        "\n",
        "    for it in range(num_iters):\n",
        "        X_batch, y_batch = sample_batch(X, y, num_train, batch_size)\n",
        "\n",
        "        # Compute loss and gradients using the current minibatch\n",
        "        loss, grads = loss_func(params, X_batch, y=y_batch, reg=reg)\n",
        "        loss_history.append(loss.item())\n",
        "\n",
        "        #########################################################################\n",
        "        # TODO: Use the gradients in the grads dictionary to update the         #\n",
        "        # parameters of the network (stored in the dictionary self.params)      #\n",
        "        # using stochastic gradient descent. You'll need to use the gradients   #\n",
        "        # stored in the grads dictionary defined above.                         #\n",
        "        #########################################################################\n",
        "        # Replace \"pass\" statement with your code\n",
        "        for param_name in params:\n",
        "            params[param_name] -= learning_rate * grads[param_name]\n",
        "        #########################################################################\n",
        "        #                             END OF YOUR CODE                          #\n",
        "        #########################################################################\n",
        "\n",
        "        if verbose and it % 100 == 0:\n",
        "            print(\"iteration %d / %d: loss %f\" % (it, num_iters, loss.item()))\n",
        "\n",
        "        # Every epoch, check train and val accuracy and decay learning rate.\n",
        "        if it % iterations_per_epoch == 0:\n",
        "            # Check accuracy\n",
        "            y_train_pred = pred_func(params, loss_func, X_batch)\n",
        "            train_acc = (y_train_pred == y_batch).float().mean().item()\n",
        "            y_val_pred = pred_func(params, loss_func, X_val)\n",
        "            val_acc = (y_val_pred == y_val).float().mean().item()\n",
        "            train_acc_history.append(train_acc)\n",
        "            val_acc_history.append(val_acc)\n",
        "\n",
        "            # Decay learning rate\n",
        "            learning_rate *= learning_rate_decay\n",
        "\n",
        "    return {\n",
        "        \"loss_history\": loss_history,\n",
        "        \"train_acc_history\": train_acc_history,\n",
        "        \"val_acc_history\": val_acc_history,\n",
        "    }\n",
        "\n",
        "\n",
        "def nn_predict(\n",
        "    params: Dict[str, torch.Tensor], loss_func: Callable, X: torch.Tensor\n",
        "):\n",
        "    \"\"\"\n",
        "    Use the trained weights of this two-layer network to predict labels for\n",
        "    data points. For each data point we predict scores for each of the C\n",
        "    classes, and assign each data point to the class with the highest score.\n",
        "\n",
        "    Inputs:\n",
        "    - params: a dictionary of PyTorch Tensor that store the weights of a model.\n",
        "      It should have following keys with shape\n",
        "          W1: First layer weights; has shape (D, H)\n",
        "          W2: Second layer weights; has shape (H, C)\n",
        "    - loss_func: a loss function that computes the loss and the gradients\n",
        "    - X: A PyTorch tensor of shape (N, D) giving N D-dimensional data points to\n",
        "      classify.\n",
        "\n",
        "    Returns:\n",
        "    - y_pred: A PyTorch tensor of shape (N,) giving predicted labels for each of\n",
        "      the elements of X. For all i, y_pred[i] = c means that X[i] is predicted\n",
        "      to have class c, where 0 <= c < C.\n",
        "    \"\"\"\n",
        "    y_pred = None\n",
        "    results,_ = nn_forward_pass(params, X)\n",
        "    _, y_pred =  results.max(dim = 1)\n",
        "    return y_pred"
      ]
    },
    {
      "cell_type": "markdown",
      "metadata": {
        "id": "JaVLlBaU8sPn"
      },
      "source": [
        "# Questions for Problem 2"
      ]
    },
    {
      "cell_type": "markdown",
      "metadata": {
        "id": "G3v88O9o8sPo"
      },
      "source": [
        "# Set up code"
      ]
    },
    {
      "cell_type": "code",
      "execution_count": 4,
      "metadata": {
        "id": "O3EvIZ0uAOVN"
      },
      "outputs": [],
      "source": [
        "import utils\n",
        "import torch\n",
        "import matplotlib.pyplot as plt\n",
        "%matplotlib inline\n",
        "\n",
        "\n",
        "plt.rcParams['figure.figsize'] = (10.0, 8.0)\n",
        "plt.rcParams['font.size'] = 16\n",
        "plt.rcParams['image.interpolation'] = 'nearest'\n",
        "plt.rcParams['image.cmap'] = 'gray'"
      ]
    },
    {
      "cell_type": "markdown",
      "metadata": {
        "id": "Hbe3wUpVAjma"
      },
      "source": [
        "# Implementing a Two-Layer Network\n",
        "In this exercise we will develop a Two-Layer Network with fully-connected layers to perform classification, and test it out on the MNIST dataset.\n",
        "\n",
        "We train the network with a Cross-Entropy loss function. The network uses a ReLU activation function after the first fully connected layer.\n",
        "\n",
        "In other words, the network has the following architecture:\n",
        "\n",
        "  input - fully connected layer - ReLU - fully connected layer - Softmax - Cross-Entropy\n",
        "\n",
        "We denote the input example as $x$, the ground truth label as $y$, the first fully connected layer output as $h$, the activation function output as $a$ and the second fully connected layer output as $s$. The complete process of the two-layer network is illustrated below.\n",
        "\n",
        "$h = W_1^Tx$\n",
        "\n",
        "$a = ReLU(h)$\n",
        "\n",
        "$s = W_2^Ta$\n",
        "\n",
        "$loss = CrossEntropy(softmax(s),y)$\n",
        "\n",
        "Here $softmax(z)_i=\\frac{e^{z_i}}{\\sum^K_{j=1}e^{z_j}}$ and $CrossEntropy(y',y)=-\\sum_i y'_i log(y_i)$.\n",
        "\n"
      ]
    },
    {
      "cell_type": "markdown",
      "metadata": {
        "id": "lJqim3P1qZgv"
      },
      "source": [
        "## Play with a toy data"
      ]
    },
    {
      "cell_type": "markdown",
      "metadata": {
        "id": "5T-4Phbd9GvI"
      },
      "source": [
        "The inputs to our network will be a batch of $N$ (`num_inputs`) $D$-dimensional vectors (`input_size`); the hidden layer will have $H$ hidden units (`hidden_size`), and we will predict classification scores for $C$ categories (`num_classes`). This means that the learnable weights of the network will have the following shapes:\n",
        "\n",
        "*   W1: First layer weights; has shape (D, H)\n",
        "*   W2: Second layer weights; has shape (H, C)\n",
        "\n",
        "We will use `utils.get_toy_data` function to generate random weights for a small toy model while we implement the model."
      ]
    },
    {
      "cell_type": "markdown",
      "metadata": {
        "id": "ZLdCF3B-AOVT"
      },
      "source": [
        "### Forward pass: compute scores\n",
        "We want to write a function that takes as input the model weights and a batch of images and labels, and returns the loss and the gradient of the loss with respect to each model parameter.\n",
        "\n",
        "However rather than attempting to implement the entire function at once, we will take a staged approach and ask you to implement the full forward and backward pass one step at a time.\n",
        "\n",
        "First we will implement the forward pass of the network which uses the weights and biases to compute scores for all inputs in `nn_forward_pass`."
      ]
    },
    {
      "cell_type": "markdown",
      "metadata": {
        "id": "inlH2l-XEtZQ"
      },
      "source": [
        "Compute the scores and compare with the answer. The distance gap should be smaller than 1e-10."
      ]
    },
    {
      "cell_type": "code",
      "execution_count": 5,
      "metadata": {
        "colab": {
          "base_uri": "https://localhost:8080/"
        },
        "id": "tZV9_3ZWAOVU",
        "outputId": "e43f0d51-072d-47c5-f964-c4634628d7b6"
      },
      "outputs": [
        {
          "output_type": "stream",
          "name": "stdout",
          "text": [
            "Your scores:\n",
            "tensor([[ 9.7003e-08, -1.1143e-07, -3.9961e-08],\n",
            "        [-7.4297e-08,  1.1502e-07,  1.5685e-07],\n",
            "        [-2.5860e-07,  2.2765e-07,  3.2453e-07],\n",
            "        [-4.7257e-07,  9.0935e-07,  4.0368e-07],\n",
            "        [-1.8395e-07,  7.9303e-08,  6.0360e-07]], device='cuda:0')\n",
            "torch.float32\n",
            "\n",
            "correct scores:\n",
            "tensor([[ 9.7003e-08, -1.1143e-07, -3.9961e-08],\n",
            "        [-7.4297e-08,  1.1502e-07,  1.5685e-07],\n",
            "        [-2.5860e-07,  2.2765e-07,  3.2453e-07],\n",
            "        [-4.7257e-07,  9.0935e-07,  4.0368e-07],\n",
            "        [-1.8395e-07,  7.9303e-08,  6.0360e-07]], device='cuda:0')\n",
            "\n",
            "Difference between your scores and correct scores: 2.24e-11\n"
          ]
        }
      ],
      "source": [
        "import utils\n",
        "\n",
        "utils.reset_seed(0)\n",
        "toy_X, toy_y, params = utils.get_toy_data()\n",
        "\n",
        "# YOUR_TURN: Implement the score computation part of nn_forward_pass\n",
        "scores, _ = nn_forward_pass(params, toy_X)\n",
        "print('Your scores:')\n",
        "print(scores)\n",
        "print(scores.dtype)\n",
        "print()\n",
        "print('correct scores:')\n",
        "correct_scores = torch.tensor([\n",
        "        [ 9.7003e-08, -1.1143e-07, -3.9961e-08],\n",
        "        [-7.4297e-08,  1.1502e-07,  1.5685e-07],\n",
        "        [-2.5860e-07,  2.2765e-07,  3.2453e-07],\n",
        "        [-4.7257e-07,  9.0935e-07,  4.0368e-07],\n",
        "        [-1.8395e-07,  7.9303e-08,  6.0360e-07]], dtype=torch.float32, device=scores.device)\n",
        "print(correct_scores)\n",
        "print()\n",
        "\n",
        "# The difference should be very small. We get < 1e-10\n",
        "scores_diff = (scores - correct_scores).abs().sum().item()\n",
        "print('Difference between your scores and correct scores: %.2e' % scores_diff)"
      ]
    },
    {
      "cell_type": "markdown",
      "metadata": {
        "id": "7XNJ3ydEAOVW"
      },
      "source": [
        "### Forward pass: compute loss\n",
        "Now, we implement the first part of `nn_forward_backward` that computes the loss.\n",
        "\n",
        "For the data loss, we compute the Cross-Entropy loss. Note that the final loss shold be an average loss of $N$ input examples."
      ]
    },
    {
      "cell_type": "markdown",
      "metadata": {
        "id": "C734SdJGE6xh"
      },
      "source": [
        "First, Let's run the following to check your implementation.\n",
        "\n",
        "We compute the loss for the toy data, and compare with the answer computed by our implementation. The difference between the correct and computed loss should be less than `1e-4`."
      ]
    },
    {
      "cell_type": "code",
      "execution_count": 6,
      "metadata": {
        "colab": {
          "base_uri": "https://localhost:8080/"
        },
        "id": "wgG6w2uKAOVX",
        "outputId": "0f49e952-7b4b-4a9a-a833-15bca70e3105"
      },
      "outputs": [
        {
          "output_type": "stream",
          "name": "stdout",
          "text": [
            "Your loss:  1.0986119508743286\n",
            "Correct loss:  1.0986121892929077\n",
            "Difference: 2.3842e-07\n"
          ]
        }
      ],
      "source": [
        "import utils\n",
        "\n",
        "utils.reset_seed(0)\n",
        "toy_X, toy_y, params = utils.get_toy_data()\n",
        "\n",
        "# YOUR_TURN: Implement the loss computation part of nn_forward_backward\n",
        "loss, _ = nn_forward_backward(params, toy_X, toy_y)\n",
        "print('Your loss: ', loss.item())\n",
        "correct_loss = 1.0986121892929077\n",
        "print('Correct loss: ', correct_loss)\n",
        "diff = (correct_loss - loss).item()\n",
        "\n",
        "# should be very small, we get < 1e-4\n",
        "print('Difference: %.4e' % diff)"
      ]
    },
    {
      "cell_type": "markdown",
      "metadata": {
        "id": "vExP-7n3AOVa"
      },
      "source": [
        "### Backward pass\n",
        "Now implement the backward pass for the entire network in `nn_forward_backward`.\n",
        "\n",
        "After doing so, we will use numeric gradient checking to see whether the analytic gradient computed by our backward pass mateches a numeric gradient.\n",
        "\n",
        "We will use the functions `utils.compute_numeric_gradient` and `utils.rel_error` to help with numeric gradient checking.\n"
      ]
    },
    {
      "cell_type": "markdown",
      "metadata": {
        "id": "Uez6T8KC8sPq"
      },
      "source": [
        "Hint: For gradient computation of Softmax Cross-Entropy loss, please refer to https://www.michaelpiseno.com/blog/2021/softmax-gradient/."
      ]
    },
    {
      "cell_type": "markdown",
      "metadata": {
        "id": "93oOdibtW_Kl"
      },
      "source": [
        "Now we will compute the gradient of the loss with respect to the variables `W1` and `W2`. Now that you (hopefully!) have a correctly implemented forward pass, you can debug your backward pass using a numeric gradient check.\n",
        "\n",
        "You should see relative errors less than `1e-4` for all parameters."
      ]
    },
    {
      "cell_type": "code",
      "execution_count": 7,
      "metadata": {
        "colab": {
          "base_uri": "https://localhost:8080/"
        },
        "id": "qCEkprvoAOVb",
        "outputId": "f5c0dec4-517f-4933-bedf-fbcbf65a79ec"
      },
      "outputs": [
        {
          "output_type": "stream",
          "name": "stdout",
          "text": [
            "W2 max relative error: 1.278115e-06\n",
            "W1 max relative error: 1.368676e-06\n"
          ]
        }
      ],
      "source": [
        "import utils\n",
        "\n",
        "utils.reset_seed(0)\n",
        "\n",
        "toy_X, toy_y, params = utils.get_toy_data(dtype=torch.float64)\n",
        "\n",
        "# YOUR_TURN: Implement the gradient computation part of nn_forward_backward\n",
        "#            When you implement the gradient computation part, you may need to\n",
        "#            implement the `hidden` output in nn_forward_pass, as well.\n",
        "loss, grads = nn_forward_backward(params, toy_X, toy_y)\n",
        "\n",
        "for param_name, grad in grads.items():\n",
        "  param = params[param_name]\n",
        "  f = lambda w: nn_forward_backward(params, toy_X, toy_y)[0]\n",
        "  grad_numeric = utils.compute_numeric_gradient(f, param)\n",
        "  error = utils.rel_error(grad, grad_numeric)\n",
        "  print('%s max relative error: %e' % (param_name, error))"
      ]
    },
    {
      "cell_type": "markdown",
      "metadata": {
        "id": "LjAUalCBAOVd"
      },
      "source": [
        "### Train the network\n",
        "To train the network we will use stochastic gradient descent (SGD).\n",
        "\n",
        "Look at the function `nn_train` and fill in the missing sections to implement the training procedure.\n",
        "\n",
        "Once you have implemented the method, run the code below to train a two-layer network on toy data. Your final training loss should be less than 1.0."
      ]
    },
    {
      "cell_type": "code",
      "execution_count": 8,
      "metadata": {
        "colab": {
          "base_uri": "https://localhost:8080/",
          "height": 754
        },
        "id": "Wgw06cLXAOVd",
        "outputId": "4b3fd652-955e-4435-a18a-f22d516208a3"
      },
      "outputs": [
        {
          "output_type": "stream",
          "name": "stdout",
          "text": [
            "Final training loss:  0.6050100326538086\n"
          ]
        },
        {
          "output_type": "display_data",
          "data": {
            "text/plain": [
              "<Figure size 1000x800 with 1 Axes>"
            ],
            "image/png": "[encoded data removed]"
          },
          "metadata": {}
        }
      ],
      "source": [
        "import utils\n",
        "from utils import get_toy_data\n",
        "\n",
        "utils.reset_seed(0)\n",
        "toy_X, toy_y, params = get_toy_data()\n",
        "\n",
        "# YOUR_TURN: Implement the nn_train function.\n",
        "#            You may need to check nn_predict function (the \"pred_func\") as well.\n",
        "stats = nn_train(params, nn_forward_backward, nn_predict, toy_X, toy_y, toy_X, toy_y,\n",
        "                 learning_rate=1e-1, reg=1e-6,\n",
        "                 num_iters=200, verbose=False)\n",
        "\n",
        "print('Final training loss: ', stats['loss_history'][-1])\n",
        "\n",
        "# plot the loss history\n",
        "plt.plot(stats['loss_history'], 'o')\n",
        "plt.xlabel('Iteration')\n",
        "plt.ylabel('training loss')\n",
        "plt.title('Training Loss history')\n",
        "plt.show()"
      ]
    },
    {
      "cell_type": "markdown",
      "metadata": {
        "id": "8cPIajWNAOVg"
      },
      "source": [
        "## Testing our NN on a real dataset: MNIST\n",
        "Now that you have implemented a two-layer network that passes gradient checks and works on toy data, it's time to load up our MNIST data so we can use it to train a classifier on a real dataset."
      ]
    },
    {
      "cell_type": "code",
      "execution_count": 9,
      "metadata": {
        "colab": {
          "base_uri": "https://localhost:8080/"
        },
        "id": "lYo_XrU3AOVg",
        "outputId": "34aa4745-22e0-4e2d-e0e6-52d8563177e9"
      },
      "outputs": [
        {
          "output_type": "stream",
          "name": "stdout",
          "text": [
            "Downloading http://yann.lecun.com/exdb/mnist/train-images-idx3-ubyte.gz\n",
            "Downloading http://yann.lecun.com/exdb/mnist/train-images-idx3-ubyte.gz to dataset/MNIST/raw/train-images-idx3-ubyte.gz\n"
          ]
        },
        {
          "output_type": "stream",
          "name": "stderr",
          "text": [
            "100%|██████████| 9912422/9912422 [00:00<00:00, 127934319.18it/s]"
          ]
        },
        {
          "output_type": "stream",
          "name": "stdout",
          "text": [
            "Extracting dataset/MNIST/raw/train-images-idx3-ubyte.gz to dataset/MNIST/raw\n"
          ]
        },
        {
          "output_type": "stream",
          "name": "stderr",
          "text": [
            "\n"
          ]
        },
        {
          "output_type": "stream",
          "name": "stdout",
          "text": [
            "\n",
            "Downloading http://yann.lecun.com/exdb/mnist/train-labels-idx1-ubyte.gz\n",
            "Downloading http://yann.lecun.com/exdb/mnist/train-labels-idx1-ubyte.gz to dataset/MNIST/raw/train-labels-idx1-ubyte.gz\n"
          ]
        },
        {
          "output_type": "stream",
          "name": "stderr",
          "text": [
            "100%|██████████| 28881/28881 [00:00<00:00, 114711831.27it/s]\n"
          ]
        },
        {
          "output_type": "stream",
          "name": "stdout",
          "text": [
            "Extracting dataset/MNIST/raw/train-labels-idx1-ubyte.gz to dataset/MNIST/raw\n",
            "\n",
            "Downloading http://yann.lecun.com/exdb/mnist/t10k-images-idx3-ubyte.gz\n",
            "Downloading http://yann.lecun.com/exdb/mnist/t10k-images-idx3-ubyte.gz to dataset/MNIST/raw/t10k-images-idx3-ubyte.gz\n"
          ]
        },
        {
          "output_type": "stream",
          "name": "stderr",
          "text": [
            "100%|██████████| 1648877/1648877 [00:00<00:00, 76550644.17it/s]"
          ]
        },
        {
          "output_type": "stream",
          "name": "stdout",
          "text": [
            "Extracting dataset/MNIST/raw/t10k-images-idx3-ubyte.gz to dataset/MNIST/raw\n"
          ]
        },
        {
          "output_type": "stream",
          "name": "stderr",
          "text": [
            "\n"
          ]
        },
        {
          "output_type": "stream",
          "name": "stdout",
          "text": [
            "\n",
            "Downloading http://yann.lecun.com/exdb/mnist/t10k-labels-idx1-ubyte.gz\n",
            "Downloading http://yann.lecun.com/exdb/mnist/t10k-labels-idx1-ubyte.gz to dataset/MNIST/raw/t10k-labels-idx1-ubyte.gz\n"
          ]
        },
        {
          "output_type": "stream",
          "name": "stderr",
          "text": [
            "100%|██████████| 4542/4542 [00:00<00:00, 4303259.27it/s]\n"
          ]
        },
        {
          "output_type": "stream",
          "name": "stdout",
          "text": [
            "Extracting dataset/MNIST/raw/t10k-labels-idx1-ubyte.gz to dataset/MNIST/raw\n",
            "\n"
          ]
        }
      ],
      "source": [
        "import utils\n",
        "\n",
        "\n",
        "# Invoke the above function to get our data.\n",
        "utils.reset_seed(0)\n",
        "x_train, y_train, x_val, y_val = utils.load_data()"
      ]
    },
    {
      "cell_type": "markdown",
      "metadata": {
        "id": "Cq-HkgRBAOVQ"
      },
      "source": [
        "### Wrap all function into a Class\n",
        "We will use the class `TwoLayerNet` to represent instances of our network. The network parameters are stored in the instance variable `self.params` where keys are string parameter names and values are PyTorch tensors.\n",
        "\n",
        "\n"
      ]
    },
    {
      "cell_type": "markdown",
      "metadata": {
        "id": "_CsYAv3uAOVi"
      },
      "source": [
        "### Train a network\n",
        "To train our network we will use SGD. In addition, we will adjust the learning rate with an exponential learning rate schedule as optimization proceeds; after each epoch, we will reduce the learning rate by multiplying it by a decay rate."
      ]
    },
    {
      "cell_type": "code",
      "execution_count": 10,
      "metadata": {
        "colab": {
          "base_uri": "https://localhost:8080/"
        },
        "id": "hgg0QV9DAOVj",
        "outputId": "fed1246f-1784-48bb-d8a0-3dceb9d40833"
      },
      "outputs": [
        {
          "output_type": "stream",
          "name": "stdout",
          "text": [
            "iteration 0 / 500: loss 2.302584\n",
            "iteration 100 / 500: loss 2.301893\n",
            "iteration 200 / 500: loss 1.799361\n",
            "iteration 300 / 500: loss 0.858400\n",
            "iteration 400 / 500: loss 0.635817\n",
            "Validation accuracy: 85.97%\n"
          ]
        }
      ],
      "source": [
        "import utils\n",
        "\n",
        "input_size = 1 * 28 * 28\n",
        "hidden_size = 36\n",
        "num_classes = 10\n",
        "\n",
        "# fix random seed before we generate a set of parameters\n",
        "utils.reset_seed(0)\n",
        "net = TwoLayerNet(input_size, hidden_size, num_classes, dtype=torch.float32, device='cpu')\n",
        "\n",
        "# Train the network\n",
        "stats = net.train(x_train, y_train,\n",
        "                  x_val, y_val,\n",
        "                  num_iters=500, batch_size=1000,\n",
        "                  learning_rate=1e-1, learning_rate_decay=0.95,\n",
        "                  verbose=True)\n",
        "\n",
        "# Predict on the validation set\n",
        "y_val_pred = net.predict(x_val)\n",
        "val_acc = 100.0 * (y_val_pred == y_val).double().mean().item()\n",
        "print('Validation accuracy: %.2f%%' % val_acc)"
      ]
    }
  ],
  "metadata": {
    "accelerator": "GPU",
    "colab": {
      "provenance": [],
      "gpuType": "T4"
    },
    "kernelspec": {
      "display_name": "Python 3",
      "name": "python3"
    },
    "language_info": {
      "codemirror_mode": {
        "name": "ipython",
        "version": 3
      },
      "file_extension": ".py",
      "mimetype": "text/x-python",
      "name": "python",
      "nbconvert_exporter": "python",
      "pygments_lexer": "ipython3",
      "version": "3.10.9"
    }
  },
  "nbformat": 4,
  "nbformat_minor": 0
}
